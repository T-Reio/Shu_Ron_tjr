{
 "cells": [
  {
   "cell_type": "code",
   "execution_count": 1,
   "metadata": {},
   "outputs": [],
   "source": [
    "import numpy as np\n",
    "import pandas as pd"
   ]
  },
  {
   "cell_type": "code",
   "execution_count": 2,
   "metadata": {},
   "outputs": [],
   "source": [
    "season = list(range(2000, 2018))"
   ]
  },
  {
   "cell_type": "code",
   "execution_count": 3,
   "metadata": {
    "scrolled": false
   },
   "outputs": [
    {
     "name": "stdout",
     "output_type": "stream",
     "text": [
      "     Season              Name          Team    G   PA  HR    R  RBI  SB  \\\n",
      "11     2015      Bryce Harper     Nationals  153  654  42  118   99   6   \n",
      "88     2015        Joey Votto          Reds  158  695  29   95   80  11   \n",
      "132    2015  Paul Goldschmidt  Diamondbacks  159  695  33  103  110  21   \n",
      "149    2015        Mike Trout        Angels  159  682  41  104   90  11   \n",
      "160    2015    Miguel Cabrera        Tigers  119  511  18   64   76   1   \n",
      "\n",
      "        BB%    ...      wOBA  wRC+  BsR   Off   Def  WAR    H  Age    OPS  \\\n",
      "11   19.0 %    ...     0.461   197  3.6  77.7 -10.2  9.3  172   22  1.109   \n",
      "88   20.6 %    ...     0.427   174 -1.1  58.7 -11.8  7.3  171   31  1.000   \n",
      "132  17.0 %    ...     0.418   163  3.0  54.1  -7.5  7.2  182   27  1.005   \n",
      "149  13.5 %    ...     0.415   171  3.0  58.7   6.6  9.3  172   23  0.991   \n",
      "160  15.1 %    ...     0.413   164 -4.7  33.4  -7.0  4.6  145   32  0.974   \n",
      "\n",
      "     playerid  \n",
      "11      11579  \n",
      "88       4314  \n",
      "132      9218  \n",
      "149     10155  \n",
      "160      1744  \n",
      "\n",
      "[5 rows x 26 columns]\n"
     ]
    }
   ],
   "source": [
    "stats = pd.read_csv('master_thesis/input/f_battingstats_00to17.csv')\n",
    "\n",
    "play_stats = {}\n",
    "for x in season:\n",
    "    play_stats[x] = stats[stats['Season'] == x]\n",
    "    \n",
    "print(play_stats[2015].head(5))"
   ]
  },
  {
   "cell_type": "code",
   "execution_count": 4,
   "metadata": {},
   "outputs": [],
   "source": [
    "salary_UST = {}\n",
    "for x in season:\n",
    "    salary_UST[x] = pd.read_excel('master_thesis/input/MLB_stats_{}.xlsx'.format(x), sheet_name = 'salary_UST')"
   ]
  },
  {
   "cell_type": "code",
   "execution_count": 5,
   "metadata": {},
   "outputs": [
    {
     "name": "stdout",
     "output_type": "stream",
     "text": [
      "   RANK            NAME TEAM_signed POS    SALARY     YEARS  TOTAL VALUE  \\\n",
      "0     1  Alex Rodriguez         TEX  SS  22000000  1 (2001)     22000000   \n",
      "1     2  Kevin J. Brown         LAD   P  15714286  1 (2001)     15714286   \n",
      "2     3  Carlos Delgado         TOR  1B  13650000  1 (2001)     13650000   \n",
      "\n",
      "   AVG ANNUAL  Season  \n",
      "0    22000000    2000  \n",
      "1    15714286    2000  \n",
      "2    13650000    2000  \n",
      "   RANK            NAME TEAM_signed POS    SALARY     YEARS  TOTAL VALUE  \\\n",
      "0     1  Alex Rodriguez         TEX  SS  22000000  1 (2002)     22000000   \n",
      "1     2  Carlos Delgado         TOR  1B  19400000  1 (2002)     19400000   \n",
      "2     3  Kevin J. Brown         LAD   P  15714286  1 (2002)     15714286   \n",
      "\n",
      "   AVG ANNUAL  Season  \n",
      "0    22000000    2001  \n",
      "1    19400000    2001  \n",
      "2    15714286    2001  \n",
      "   RANK            NAME TEAM_signed POS    SALARY     YEARS  TOTAL VALUE  \\\n",
      "0     1  Alex Rodriguez         TEX  SS  22000000  1 (2003)     22000000   \n",
      "1     2   Manny Ramirez         BOS  OF  20000000  1 (2003)     20000000   \n",
      "2     3  Carlos Delgado         TOR  1B  18700000  1 (2003)     18700000   \n",
      "\n",
      "   AVG ANNUAL  Season  \n",
      "0    22000000    2002  \n",
      "1    20000000    2002  \n",
      "2    18700000    2002  \n",
      "   RANK            NAME TEAM_signed POS    SALARY     YEARS  TOTAL VALUE  \\\n",
      "0     1   Manny Ramirez         BOS  OF  22500000  1 (2004)     22500000   \n",
      "1     2  Carlos Delgado         TOR  1B  19700000  1 (2004)     19700000   \n",
      "2     3     Derek Jeter         NYY  SS  18600000  1 (2004)     18600000   \n",
      "\n",
      "   AVG ANNUAL  Season  \n",
      "0    22500000    2003  \n",
      "1    19700000    2003  \n",
      "2    18600000    2003  \n",
      "   RANK           NAME TEAM_signed POS    SALARY     YEARS  TOTAL VALUE  \\\n",
      "0     1    Barry Bonds          SF  OF  22000000  1 (2005)     22000000   \n",
      "1     1  Manny Ramirez         BOS  OF  22000000  1 (2005)     22000000   \n",
      "2     3    Derek Jeter         NYY  SS  19600000  1 (2005)     19600000   \n",
      "\n",
      "   AVG ANNUAL  Season  \n",
      "0    22000000    2004  \n",
      "1    22000000    2004  \n",
      "2    19600000    2004  \n",
      "   RANK          NAME TEAM_signed POS    SALARY     YEARS  TOTAL VALUE  \\\n",
      "0     1   Derek Jeter         NYY  SS  20600000  1 (2006)     20600000   \n",
      "1     2  Jason Giambi         NYY  1B  20428571  1 (2006)     20428571   \n",
      "2     3  Jeff Bagwell         HOU  1B  19369019  1 (2006)     19369019   \n",
      "\n",
      "   AVG ANNUAL  Season  \n",
      "0    20600000    2005  \n",
      "1    20428571    2005  \n",
      "2    19369019    2005  \n",
      "   RANK           NAME TEAM_signed POS    SALARY     YEARS  TOTAL VALUE  \\\n",
      "0     1   Jason Giambi         NYY  DH  23428571  1 (2007)     23428571   \n",
      "1     2    Derek Jeter         NYY  SS  21600000  1 (2007)     21600000   \n",
      "2     3  Manny Ramirez         BOS  OF  17016381  1 (2007)     17016381   \n",
      "\n",
      "   AVG ANNUAL  Season  \n",
      "0    23428571    2006  \n",
      "1    21600000    2006  \n",
      "2    17016381    2006  \n",
      "   RANK           NAME TEAM_signed POS    SALARY     YEARS  TOTAL VALUE  \\\n",
      "0     1   Jason Giambi         NYY  DH  23428571  1 (2008)     23428571   \n",
      "1     2    Derek Jeter         NYY  SS  21600000  1 (2008)     21600000   \n",
      "2     3  Manny Ramirez         BOS  OF  18929923  1 (2008)     18929923   \n",
      "\n",
      "   AVG ANNUAL  Season  \n",
      "0    23428571    2007  \n",
      "1    21600000    2007  \n",
      "2    18929923    2007  \n",
      "   RANK           NAME TEAM_signed POS    SALARY        YEARS  TOTAL VALUE  \\\n",
      "0     1  Manny Ramirez         LAD  OF  23854494     1 (2009)     23854494   \n",
      "1     2    Derek Jeter         NYY  SS  21600000     1 (2009)     21600000   \n",
      "2     3  Mark Teixeira         NYY  1B  20625000  8 (2009-16)    180000000   \n",
      "\n",
      "   AVG ANNUAL  Season  \n",
      "0    23854494    2008  \n",
      "1    21600000    2008  \n",
      "2    22500000    2008  \n",
      "   RANK           NAME TEAM_signed POS    SALARY        YEARS  TOTAL VALUE  \\\n",
      "0     1    CC Sabathia         NYY   P  24285714     1 (2010)     24285714   \n",
      "1     2    Derek Jeter         NYY  SS  22600000     1 (2010)     22600000   \n",
      "2     3  Mark Teixeira         NYY  1B  20625000  8 (2009-16)    180000000   \n",
      "\n",
      "   AVG ANNUAL  Season  \n",
      "0    24285714    2009  \n",
      "1    22600000    2009  \n",
      "2    22500000    2009  \n",
      "   RANK           NAME TEAM_signed POS    SALARY        YEARS  TOTAL VALUE  \\\n",
      "0     1   Vernon Wells         LAA  OF  26187500     1 (2011)     26187500   \n",
      "1     2    CC Sabathia         NYY   P  24285714     1 (2011)     24285714   \n",
      "2     3  Mark Teixeira         NYY  1B  23125000  8 (2009-16)    180000000   \n",
      "\n",
      "   AVG ANNUAL  Season  \n",
      "0    26187500    2010  \n",
      "1    24285714    2010  \n",
      "2    22500000    2010  \n",
      "   RANK           NAME TEAM_signed POS    SALARY        YEARS  TOTAL VALUE  \\\n",
      "0     1   Vernon Wells         LAA  OF  24187500     1 (2012)     24187500   \n",
      "1     2  Johan Santana         NYM   P  23145011  6 (2008-13)    137500000   \n",
      "2     3  Mark Teixeira         NYY  1B  23125000  8 (2009-16)    180000000   \n",
      "\n",
      "   AVG ANNUAL  Season  \n",
      "0    24187500    2011  \n",
      "1    22916667    2011  \n",
      "2    22500000    2011  \n",
      "   RANK           NAME TEAM_signed POS    SALARY        YEARS  TOTAL VALUE  \\\n",
      "0     1      Cliff Lee         PHI   P  25000000  5 (2011-15)    120000000   \n",
      "1     2  Johan Santana         NYM   P  24644708  6 (2008-13)    137500000   \n",
      "2     3  Mark Teixeira         NYY  1B  23125000  8 (2009-16)    180000000   \n",
      "\n",
      "   AVG ANNUAL  Season  \n",
      "0    24000000    2012  \n",
      "1    22916667    2012  \n",
      "2    22500000    2012  \n",
      "   RANK           NAME TEAM_signed POS    SALARY         YEARS  TOTAL VALUE  \\\n",
      "0     1   Zack Greinke         LAD  SP  28000000   6 (2013-18)    147000000   \n",
      "1     2      Cliff Lee         PHI  SP  25000000   5 (2011-15)    120000000   \n",
      "2     3  Robinson Cano         SEA  2B  24000000  10 (2014-23)    240000000   \n",
      "\n",
      "   AVG ANNUAL  Season  \n",
      "0    24500000    2013  \n",
      "1    24000000    2013  \n",
      "2    24000000    2013  \n",
      "   RANK              NAME TEAM_signed POS    SALARY        YEARS  TOTAL VALUE  \\\n",
      "0     1  Justin Verlander         DET  SP  28000000  7 (2013-19)    180000000   \n",
      "1     2      Zack Greinke         LAD  SP  27000000  6 (2013-18)    147000000   \n",
      "2     3     Josh Hamilton         LAA  RF  25000000  5 (2013-17)    125000000   \n",
      "\n",
      "   AVG ANNUAL  Season  \n",
      "0    25714286    2014  \n",
      "1    24500000    2014  \n",
      "2    25000000    2014  \n",
      "   RANK             NAME TEAM_signed POS    SALARY        YEARS  TOTAL VALUE  \\\n",
      "0     1  Clayton Kershaw         LAD  SP  33000000  7 (2014-20)    215000000   \n",
      "1     2     Zack Greinke         ARI  SP  31799030  6 (2016-21)    206500000   \n",
      "2     3      David Price         BOS  SP  30000000  7 (2016-22)    217000000   \n",
      "\n",
      "   AVG ANNUAL  Season  \n",
      "0    30714286    2015  \n",
      "1    34416667    2015  \n",
      "2    31000000    2015  \n",
      "   RANK             NAME TEAM_signed POS    SALARY        YEARS  TOTAL VALUE  \\\n",
      "0     1  Clayton Kershaw         LAD  SP  33000000  7 (2014-20)    215000000   \n",
      "1     2     Zack Greinke         ARI  SP  31876966  6 (2016-21)    206500000   \n",
      "2     3      David Price         BOS  SP  30000000  7 (2016-22)    217000000   \n",
      "\n",
      "   AVG ANNUAL  Season  \n",
      "0    30714286    2016  \n",
      "1    34416667    2016  \n",
      "2    31000000    2016  \n",
      "   RANK             NAME TEAM_signed POS    SALARY        YEARS  TOTAL VALUE  \\\n",
      "0     1       Mike Trout         LAA  OF  34083333  6 (2015-20)    144500000   \n",
      "1     2  Clayton Kershaw         LAD  SP  34000000  7 (2014-20)    215000000   \n",
      "2     3     Zack Greinke         ARI  SP  31954483  6 (2016-21)    206500000   \n",
      "\n",
      "   AVG ANNUAL  Season  \n",
      "0    24083333    2017  \n",
      "1    30714286    2017  \n",
      "2    34416667    2017  \n"
     ]
    }
   ],
   "source": [
    "for x in season:\n",
    "    salary_UST[x]['Season'] = x\n",
    "    salary_UST[x] = salary_UST[x].rename(columns = {'TEAM':'TEAM_signed'})\n",
    "\n",
    "for x in season:\n",
    "    print(salary_UST[x].head(3))"
   ]
  },
  {
   "cell_type": "code",
   "execution_count": 6,
   "metadata": {},
   "outputs": [],
   "source": [
    "for x in season:\n",
    "    play_stats[x] = play_stats[x].rename(columns = {'Name':'NAME', 'Team':'TEAM_played'})\n",
    "    play_stats[x] = play_stats[x].replace({\n",
    "    'Giants':'SFG', 'Cardinals':'STL', 'Indians':'CLE', 'Rockies':'COL', 'Blue Jays':'TOR', 'Athletics':'OAK',\n",
    "    'Cubs':'CHC', 'Nationals':'WSH', 'Red Sox':'BOS', 'White Sox':'CHW', 'Tigers':'DET', 'Twins':'MIN',\n",
    "    'Diamondbacks':'ARI', 'Orioles':'BAL', 'Reds':'CIN', 'Astros':'HOU',  'Royals':'KCR', 'Angels':'LAA',\n",
    "    'Dodgers':'LAD', 'Marlins':'MIA', 'Yankees':'NYY', 'Mets':'NYM', 'Phillies':'PHI', 'Pirates':'PIT',\n",
    "    'Padres':'SDP', 'Mariners':'SEA', 'Rays':'TBR', 'Rangers':'TEX', 'Brewers':'MIL', 'Braves':'ATL',\n",
    "    '- - -':'PTms', 'Devil Rays':'TBR', 'Expos':'WSH'\n",
    "    })"
   ]
  },
  {
   "cell_type": "code",
   "execution_count": 7,
   "metadata": {},
   "outputs": [],
   "source": [
    "play_stats[x].set_index(['NAME', 'Season'])\n",
    "\n",
    "for x in season:\n",
    "    salary_UST[x].set_index(['NAME', 'Season'])"
   ]
  },
  {
   "cell_type": "code",
   "execution_count": 8,
   "metadata": {},
   "outputs": [
    {
     "name": "stdout",
     "output_type": "stream",
     "text": [
      "   Season           NAME TEAM_played    G   PA  HR    R  RBI  SB     BB%  \\\n",
      "0    2002    Barry Bonds         SFG  143  612  46  117  110   9  32.4 %   \n",
      "1    2002      Jim Thome         CLE  147  613  52  101  118   1  19.9 %   \n",
      "2    2002  Manny Ramirez         BOS  120  518  33   84  107   0  14.1 %   \n",
      "3    2002    Brian Giles         PIT  153  644  38   95  103  15  21.0 %   \n",
      "4    2002   Jason Giambi         NYY  155  689  41  120  122   2  15.8 %   \n",
      "\n",
      "      ...     Age    OPS  playerid  RANK  TEAM_signed  POS      SALARY  \\\n",
      "0     ...      37  1.381      1109  10.0           SF   OF  15500000.0   \n",
      "1     ...      31  1.122       409  35.0          PHI   1B  11166667.0   \n",
      "2     ...      30  1.097       210   2.0          BOS   OF  20000000.0   \n",
      "3     ...      31  1.072       990  59.0          PIT   OF   8833333.0   \n",
      "4     ...      31  1.034       818  33.0          NYY   1B  11428571.0   \n",
      "\n",
      "      YEARS  TOTAL VALUE  AVG ANNUAL  \n",
      "0  1 (2003)   15500000.0  15500000.0  \n",
      "1  1 (2003)   11166667.0  11166667.0  \n",
      "2  1 (2003)   20000000.0  20000000.0  \n",
      "3  1 (2003)    8833333.0   8833333.0  \n",
      "4  1 (2003)   11428571.0  11428571.0  \n",
      "\n",
      "[5 rows x 33 columns]\n"
     ]
    }
   ],
   "source": [
    "stats_salary = {}\n",
    "\n",
    "for x in season:\n",
    "    stats_salary[x] = pd.merge(play_stats[x], salary_UST[x], on = ['NAME','Season'], how = 'left')\n",
    "        \n",
    "print(stats_salary[2002].head(5))"
   ]
  },
  {
   "cell_type": "code",
   "execution_count": 9,
   "metadata": {},
   "outputs": [],
   "source": [
    "stats_salary = pd.concat(stats_salary[x] for x in season)"
   ]
  },
  {
   "cell_type": "code",
   "execution_count": 37,
   "metadata": {},
   "outputs": [
    {
     "name": "stdout",
     "output_type": "stream",
     "text": [
      "False\n",
      "   Season            NAME TEAM_played    G   PA  HR    R  RBI  SB     BB%  \\\n",
      "0    2000    Mark McGwire         STL   89  321  32   60   73   1  23.7 %   \n",
      "1    2000   Manny Ramirez         CLE  118  532  38   92  122   1  16.2 %   \n",
      "2    2000     Todd Helton         COL  160  697  42  138  147   5  14.8 %   \n",
      "3    2000  Carlos Delgado         TOR  162  711  41  115  137   0  17.3 %   \n",
      "4    2000    Jason Giambi         OAK  152  664  43  108  137   2  20.6 %   \n",
      "\n",
      "        ...       playerid   RANK  TEAM_signed  POS      SALARY     YEARS  \\\n",
      "0       ...        1008559   18.0          STL   1B  11000000.0  1 (2001)   \n",
      "1       ...            210    7.0          BOS   OF  13050000.0  1 (2001)   \n",
      "2       ...            432  144.0          COL   1B   4950000.0  1 (2001)   \n",
      "3       ...           1297    3.0          TOR   1B  13650000.0  1 (2001)   \n",
      "4       ...            818  172.0          OAK   1B   4103333.0  1 (2001)   \n",
      "\n",
      "   TOTAL VALUE  AVG ANNUAL  AVG_above  Log AVG ANNUAL  \n",
      "0   11000000.0  11000000.0       True       16.213406  \n",
      "1   13050000.0  13050000.0       True       16.384299  \n",
      "2    4950000.0   4950000.0       True       15.414898  \n",
      "3   13650000.0  13650000.0       True       16.429250  \n",
      "4    4103333.0   4103333.0       True       15.227310  \n",
      "\n",
      "[5 rows x 35 columns]\n"
     ]
    },
    {
     "name": "stderr",
     "output_type": "stream",
     "text": [
      "C:\\Users\\T-Reio\\Anaconda3\\lib\\site-packages\\ipykernel_launcher.py:3: RuntimeWarning: divide by zero encountered in log\n",
      "  This is separate from the ipykernel package so we can avoid doing imports until\n"
     ]
    }
   ],
   "source": [
    "stats_salary.loc[stats_salary['AVG'] >= 0.3,'AVG_above'] = True\n",
    "stats_salary.loc[stats_salary['AVG'] < 0.3,'AVG_above'] = False\n",
    "stats_salary['Log AVG ANNUAL'] = np.log(stats_salary['AVG ANNUAL'])\n",
    "stats_salary.loc[stats_salary['Log AVG ANNUAL'] == -np.inf, 'Log AVG ANNUAL'] = 0\n",
    "print(np.isinf(stats_salary['Log AVG ANNUAL']).any())\n",
    "print(stats_salary.head(5))"
   ]
  },
  {
   "cell_type": "code",
   "execution_count": 38,
   "metadata": {},
   "outputs": [],
   "source": [
    "stats_salary.to_csv('master_thesis/output/stats_salary_00to17.csv', encoding = 'utf-8')"
   ]
  },
  {
   "cell_type": "code",
   "execution_count": null,
   "metadata": {},
   "outputs": [],
   "source": []
  }
 ],
 "metadata": {
  "kernelspec": {
   "display_name": "Python 3",
   "language": "python",
   "name": "python3"
  },
  "language_info": {
   "codemirror_mode": {
    "name": "ipython",
    "version": 3
   },
   "file_extension": ".py",
   "mimetype": "text/x-python",
   "name": "python",
   "nbconvert_exporter": "python",
   "pygments_lexer": "ipython3",
   "version": "3.6.4"
  }
 },
 "nbformat": 4,
 "nbformat_minor": 2
}
