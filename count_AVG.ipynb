{
 "cells": [
  {
   "cell_type": "code",
   "execution_count": 1,
   "metadata": {},
   "outputs": [],
   "source": [
    "import pandas as pd\n",
    "import numpy as np\n",
    "import collections as c"
   ]
  },
  {
   "cell_type": "code",
   "execution_count": 48,
   "metadata": {},
   "outputs": [],
   "source": [
    "stats1 = pd.read_csv('master_thesis/input/f_battingstats_57_86.csv')\n",
    "stats2 = pd.read_csv('master_thesis/input/f_battingstats_87_17.csv')\n",
    "stats = pd.concat([stats1, stats2])"
   ]
  },
  {
   "cell_type": "code",
   "execution_count": 49,
   "metadata": {},
   "outputs": [],
   "source": [
    "#シーズンごと\n",
    "season = list(range(1957, 2018))"
   ]
  },
  {
   "cell_type": "code",
   "execution_count": 50,
   "metadata": {},
   "outputs": [
    {
     "name": "stdout",
     "output_type": "stream",
     "text": [
      "     Season            Name      Team    G   PA  HR    R  RBI  SB    ISO  \\\n",
      "241    1957    Ted Williams   Red Sox  132  546  38   96   87   0  0.343   \n",
      "278    1957   Mickey Mantle   Yankees  144  623  34  121   94  16  0.300   \n",
      "290    1961       Norm Cash    Tigers  159  672  41  119  132  11  0.301   \n",
      "305    1980    George Brett    Royals  117  515  24   87  118  15  0.274   \n",
      "306    1961   Mickey Mantle   Yankees  153  646  54  132  128  12  0.370   \n",
      "318    1962   Mickey Mantle   Yankees  123  502  30   96   89   9  0.284   \n",
      "323    1960    Ted Williams   Red Sox  113  390  29   56   72   1  0.329   \n",
      "327    1981    Mike Schmidt  Phillies  102  434  31   78   91  12  0.328   \n",
      "328    1959  Willie McCovey    Giants   52  219  13   32   38   2  0.302   \n",
      "331    1969  Willie McCovey    Giants  149  623  45  101  126   0  0.336   \n",
      "\n",
      "       ...      WAR  Age    H    OPS   Bat   Fld  Pos   WPA  -WPA  playerid  \n",
      "241    ...      9.7   38  163  1.257  78.8   2.0 -5.4   NaN   NaN   1014040  \n",
      "278    ...     11.4   25  173  1.177  86.2   1.0 -0.8   NaN   NaN   1008082  \n",
      "290    ...     10.2   26  193  1.148  79.7   9.0 -9.5   NaN   NaN   1002043  \n",
      "305    ...      9.1   27  175  1.118  59.2   9.0  0.6  6.14 -6.72   1001400  \n",
      "306    ...     10.3   29  163  1.135  78.6   1.0  0.0   NaN   NaN   1008082  \n",
      "318    ...      6.0   30  121  1.091  57.6 -15.0 -1.1   NaN   NaN   1008082  \n",
      "323    ...      3.4   41   98  1.096  40.1 -16.0 -4.2   NaN   NaN   1014040  \n",
      "327    ...      7.8   31  112  1.080  46.4   9.0  0.6  5.35 -7.57   1011586  \n",
      "328    ...      3.1   21   68  1.085  23.5   1.0 -2.8   NaN   NaN   1008423  \n",
      "331    ...      7.9   31  157  1.108  67.2  -8.0 -8.6   NaN   NaN   1008423  \n",
      "\n",
      "[10 rows x 29 columns]\n"
     ]
    }
   ],
   "source": [
    "data = {}\n",
    "\n",
    "for x in season:\n",
    "    data[x] = stats[stats['Season'] == x]\n",
    "    data[x] = stats[stats['PA'] >= 200]\n",
    "    \n",
    "print(data[1995].head(10))"
   ]
  },
  {
   "cell_type": "code",
   "execution_count": 51,
   "metadata": {},
   "outputs": [
    {
     "name": "stdout",
     "output_type": "stream",
     "text": [
      "       AVG    0  Season\n",
      "0    0.388    2    2005\n",
      "1    0.365    2    2005\n",
      "2    0.361    3    2005\n",
      "3     0.39    1    2005\n",
      "4    0.317   50    2005\n",
      "5    0.321   50    2005\n",
      "6    0.316   47    2005\n",
      "7    0.354    3    2005\n",
      "8     0.32   52    2005\n",
      "9    0.327   25    2005\n",
      "10   0.314   62    2005\n",
      "11   0.358    4    2005\n",
      "12   0.333   26    2005\n",
      "13   0.366    4    2005\n",
      "14   0.329   21    2005\n",
      "15   0.326   31    2005\n",
      "16   0.302  127    2005\n",
      "17   0.308   63    2005\n",
      "18   0.301  139    2005\n",
      "19   0.328   26    2005\n",
      "20   0.342   13    2005\n",
      "21   0.304  111    2005\n",
      "22   0.295  130    2005\n",
      "23   0.299   65    2005\n",
      "24   0.289  166    2005\n",
      "25   0.275  215    2005\n",
      "26   0.276  257    2005\n",
      "27    0.31   67    2005\n",
      "28   0.355    3    2005\n",
      "29   0.303  107    2005\n",
      "..     ...  ...     ...\n",
      "192  0.159    3    2005\n",
      "193  0.156    2    2005\n",
      "194  0.182    4    2005\n",
      "195  0.177    3    2005\n",
      "196  0.185    7    2005\n",
      "197  0.167    7    2005\n",
      "198  0.189    5    2005\n",
      "199  0.174    6    2005\n",
      "200  0.181    7    2005\n",
      "201   0.17    2    2005\n",
      "202  0.163    2    2005\n",
      "203  0.152    1    2005\n",
      "204   0.15    2    2005\n",
      "205  0.161    1    2005\n",
      "206  0.155    1    2005\n",
      "207  0.135    1    2005\n",
      "208  0.166    3    2005\n",
      "209   0.37    3    2005\n",
      "210  0.362    2    2005\n",
      "211  0.379    1    2005\n",
      "212  0.372    4    2005\n",
      "213  0.356    2    2005\n",
      "214  0.394    1    2005\n",
      "215  0.168    2    2005\n",
      "216  0.162    3    2005\n",
      "217   0.16    1    2005\n",
      "218  0.169    4    2005\n",
      "219  0.158    1    2005\n",
      "220  0.157    1    2005\n",
      "221  0.146    1    2005\n",
      "\n",
      "[222 rows x 3 columns]\n"
     ]
    }
   ],
   "source": [
    "count = {}\n",
    "\n",
    "for x in season:\n",
    "    count[x] = c.Counter(data[x]['AVG'])\n",
    "    count[x]['AVG'] = round(count[x]['AVG'], 3)\n",
    "    count[x] = pd.DataFrame.from_dict(count[x], orient = 'index').reset_index()\n",
    "    count[x]['Season'] = x\n",
    "    count[x] = count[x][count[x]['index'] != 'AVG']\n",
    "    count[x].rename(columns = {\n",
    "        'index':'AVG', '0':'freq'\n",
    "    }, inplace=True)\n",
    "\n",
    "print(count[2005])"
   ]
  },
  {
   "cell_type": "code",
   "execution_count": 52,
   "metadata": {},
   "outputs": [
    {
     "name": "stdout",
     "output_type": "stream",
     "text": [
      "      AVG   0  Season\n",
      "0   0.388   2    1957\n",
      "1   0.365   2    1957\n",
      "2   0.361   3    1957\n",
      "3    0.39   1    1957\n",
      "4   0.317  50    1957\n",
      "5   0.321  50    1957\n",
      "6   0.316  47    1957\n",
      "7   0.354   3    1957\n",
      "8    0.32  52    1957\n",
      "9   0.327  25    1957\n",
      "10  0.314  62    1957\n",
      "11  0.358   4    1957\n",
      "12  0.333  26    1957\n",
      "13  0.366   4    1957\n",
      "14  0.329  21    1957\n"
     ]
    }
   ],
   "source": [
    "count = pd.concat(count[x] for x in season)\n",
    "count.rename(columns = {'0':'freq'}, inplace = True)\n",
    "print(count.head(15))"
   ]
  },
  {
   "cell_type": "code",
   "execution_count": 53,
   "metadata": {},
   "outputs": [],
   "source": [
    "count.to_csv(\"master_thesis/output/count_AVG.csv\", encoding = 'utf-8')"
   ]
  },
  {
   "cell_type": "code",
   "execution_count": 4,
   "metadata": {},
   "outputs": [
    {
     "name": "stdout",
     "output_type": "stream",
     "text": [
      "1957\n",
      "1958\n",
      "1959\n",
      "1960\n",
      "1961\n",
      "1962\n",
      "1963\n",
      "1964\n",
      "1965\n",
      "1966\n",
      "1967\n",
      "1968\n",
      "1969\n",
      "1970\n",
      "1971\n",
      "1972\n",
      "1973\n",
      "1974\n",
      "1975\n",
      "1976\n",
      "1977\n",
      "1978\n",
      "1979\n",
      "1980\n",
      "1981\n",
      "1982\n",
      "1983\n",
      "1984\n",
      "1985\n",
      "1986\n",
      "1987\n",
      "1988\n",
      "1989\n",
      "1990\n",
      "1991\n",
      "1992\n",
      "1993\n",
      "1994\n",
      "1995\n",
      "1996\n",
      "1997\n",
      "1998\n",
      "1999\n",
      "2000\n",
      "2001\n",
      "2002\n",
      "2003\n",
      "2004\n",
      "2005\n",
      "2006\n",
      "2007\n",
      "2008\n",
      "2009\n",
      "2010\n",
      "2011\n",
      "2012\n",
      "2013\n",
      "2014\n",
      "2015\n",
      "2016\n"
     ]
    }
   ],
   "source": [
    "#5-seasons unit\n",
    "interval = list(range(0, 12))\n",
    "\n",
    "season = {}\n",
    "\n",
    "for x in interval:\n",
    "    season[x] = list(range(1957 + 5 * x, 1957 + 5 * x + 5))\n",
    "    \n",
    "for x in interval:\n",
    "    for y in season[x]:\n",
    "        print(y)"
   ]
  },
  {
   "cell_type": "code",
   "execution_count": 47,
   "metadata": {},
   "outputs": [],
   "source": [
    "stats1 = pd.read_csv('master_thesis/input/f_battingstats_57_86.csv')\n",
    "stats2 = pd.read_csv('master_thesis/input/f_battingstats_87_17.csv')\n",
    "stats = pd.concat([stats1, stats2])\n",
    "stats.to_csv('master_thesis/output/battingstats_since57.csv', encoding = 'utf-8')"
   ]
  },
  {
   "cell_type": "code",
   "execution_count": null,
   "metadata": {},
   "outputs": [],
   "source": []
  },
  {
   "cell_type": "code",
   "execution_count": null,
   "metadata": {},
   "outputs": [],
   "source": []
  },
  {
   "cell_type": "code",
   "execution_count": null,
   "metadata": {},
   "outputs": [],
   "source": []
  },
  {
   "cell_type": "code",
   "execution_count": null,
   "metadata": {},
   "outputs": [],
   "source": []
  }
 ],
 "metadata": {
  "kernelspec": {
   "display_name": "Python 3",
   "language": "python",
   "name": "python3"
  },
  "language_info": {
   "codemirror_mode": {
    "name": "ipython",
    "version": 3
   },
   "file_extension": ".py",
   "mimetype": "text/x-python",
   "name": "python",
   "nbconvert_exporter": "python",
   "pygments_lexer": "ipython3",
   "version": "3.6.4"
  }
 },
 "nbformat": 4,
 "nbformat_minor": 2
}
