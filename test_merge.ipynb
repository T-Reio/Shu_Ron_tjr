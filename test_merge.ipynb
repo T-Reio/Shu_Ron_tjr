{
 "cells": [
  {
   "cell_type": "code",
   "execution_count": 2,
   "metadata": {},
   "outputs": [],
   "source": [
    "import numpy as np\n",
    "import pandas as pd"
   ]
  },
  {
   "cell_type": "code",
   "execution_count": 3,
   "metadata": {},
   "outputs": [],
   "source": [
    "pitch = pd.read_excel('master_thesis/input/MLB_stats_2017.xlsx', sheet_name = 'team_pitching')\n",
    "bat = pd.read_excel('master_thesis/input/MLB_stats_2017.xlsx', sheet_name = 'team_batting')\n",
    "stand = pd.read_excel('master_thesis/input/MLB_stats_2017.xlsx', sheet_name = 'team_standings')"
   ]
  },
  {
   "cell_type": "code",
   "execution_count": 4,
   "metadata": {},
   "outputs": [
    {
     "name": "stdout",
     "output_type": "stream",
     "text": [
      "    Tm  Lg    G    W   L   W-L%    R   RA  SRS  pythWL  Luck\n",
      "0  LAD  NL  162  104  58  0.642  4.8  3.6  0.9  102-60     2\n",
      "1  CLE  AL  162  102  60  0.630  5.0  3.5  1.5  108-54    -6\n",
      "2  HOU  AL  162  101  61  0.624  5.5  4.3  1.2   99-63     2\n",
      "3  WSN  NL  162   97  65  0.599  5.1  4.1  0.6   96-66     1\n",
      "4  BOS  AL  162   93  69  0.574  4.8  4.1  0.8   93-69     0\n"
     ]
    }
   ],
   "source": [
    "pitch.set_index('Tm')\n",
    "bat.set_index('Tm')\n",
    "stand.set_index('Tm')\n",
    "\n",
    "sfil = ['Tm', 'Lg', 'G', 'W', 'L', 'W-L%', 'R', 'RA', 'SRS', 'pythWL', 'Luck']\n",
    "pfil = ['Tm', '#P', 'PAge', 'RA/G', 'ERA','H','ER', 'HR', 'BB', 'IBB', 'SO', 'HBP', 'BK', 'WP', 'ERA+', 'FIP', 'WHIP',\n",
    "        'H9', 'HR9', 'BB9', 'SO9', 'SO/W', 'LOB']\n",
    "bfil = ['Tm', '#Bat', 'BatAge', 'R/G', 'PA', 'AB', 'H', '2B', '3B', 'HR', 'RBI', 'SB', 'CS', 'BB', 'SO', 'BA', \n",
    "        'OBP', 'SLG', 'OPS', 'OPS+', 'TB', 'HBP', 'SH', 'SF', 'IBB', 'LOB']\n",
    "\n",
    "stand = stand.filter(sfil)\n",
    "pitch = pitch.filter(pfil)\n",
    "bat = bat.filter(bfil)\n",
    "\n",
    "print(stand.head(5))"
   ]
  },
  {
   "cell_type": "code",
   "execution_count": 30,
   "metadata": {},
   "outputs": [],
   "source": [
    "team_stats = pd.merge(pitch, bat, on = 'Tm')\n",
    "team_stats = pd.merge(stand, team_stats, on = 'Tm')\n",
    "team_stats['Season'] = 2017"
   ]
  },
  {
   "cell_type": "code",
   "execution_count": 31,
   "metadata": {},
   "outputs": [
    {
     "name": "stdout",
     "output_type": "stream",
     "text": [
      "    Tm  Lg    G    W   L   W-L%    R   RA  SRS  Luck   ...      SLG    OPS  \\\n",
      "0  LAD  NL  162  104  58  0.642  4.8  3.6  0.9     2   ...    0.437  0.771   \n",
      "1  CLE  AL  162  102  60  0.630  5.0  3.5  1.5    -6   ...    0.449  0.788   \n",
      "2  HOU  AL  162  101  61  0.624  5.5  4.3  1.2     2   ...    0.478  0.823   \n",
      "3  WSN  NL  162   97  65  0.599  5.1  4.1  0.6     1   ...    0.449  0.782   \n",
      "4  BOS  AL  162   93  69  0.574  4.8  4.1  0.8     0   ...    0.407  0.736   \n",
      "\n",
      "   OPS+    TB  HBP_y  SH  SF  IBB_y  LOB_y  Season  \n",
      "0   103  2362     64  31  38     41   1146    2017  \n",
      "1   103  2476     50  23  45     30   1158    2017  \n",
      "2   124  2681     70  11  61     27   1094    2017  \n",
      "3    99  2495     31  43  45     56   1101    2017  \n",
      "4    92  2305     53   9  36     48   1134    2017  \n",
      "\n",
      "[5 rows x 58 columns]\n"
     ]
    }
   ],
   "source": [
    "print(team_stats.head(5))"
   ]
  },
  {
   "cell_type": "code",
   "execution_count": 32,
   "metadata": {
    "scrolled": true
   },
   "outputs": [],
   "source": [
    "team_stats.to_csv(\"master_thesis/output/2017_team.csv\",index=False, encoding = 'utf-8')"
   ]
  },
  {
   "cell_type": "code",
   "execution_count": 37,
   "metadata": {},
   "outputs": [],
   "source": [
    "pitch = pd.read_excel('master_thesis/input/MLB_stats_2016.xlsx', sheet_name = 'team_pitching')\n",
    "bat = pd.read_excel('master_thesis/input/MLB_stats_2016.xlsx', sheet_name = 'team_batting')\n",
    "stand = pd.read_excel('master_thesis/input/MLB_stats_2016.xlsx', sheet_name = 'team_standings')\n",
    "\n",
    "pitch.set_index('Tm')\n",
    "bat.set_index('Tm')\n",
    "stand.set_index('Tm')\n",
    "\n",
    "sfil = ['Tm', 'Lg', 'G', 'W', 'L', 'W-L%', 'R', 'RA', 'SRS', 'PythWL', 'Luck']\n",
    "pfil = ['Tm', '#P', 'PAge', 'RA/G', 'ERA','H','ER', 'HR', 'BB', 'IBB', 'SO', 'HBP', 'BK', 'WP', 'ERA+', 'FIP', 'WHIP',\n",
    "        'H9', 'HR9', 'BB9', 'SO9', 'SO/W', 'LOB']\n",
    "bfil = ['Tm', '#Bat', 'BatAge', 'R/G', 'PA', 'AB', 'H', '2B', '3B', 'HR', 'RBI', 'SB', 'CS', 'BB', 'SO', 'BA', \n",
    "        'OBP', 'SLG', 'OPS', 'OPS+', 'TB', 'HBP', 'SH', 'SF', 'IBB', 'LOB']\n",
    "\n",
    "stand = stand.filter(sfil)\n",
    "pitch = pitch.filter(pfil)\n",
    "bat = bat.filter(bfil)\n",
    "\n",
    "team_stats = pd.merge(pitch, bat, on = 'Tm')\n",
    "team_stats = pd.merge(stand, team_stats, on = 'Tm')\n",
    "team_stats['Season'] = 2016\n",
    "\n",
    "team_stats.to_csv(\"master_thesis/output/2016_team.csv\",index=False, encoding = 'utf-8')"
   ]
  },
  {
   "cell_type": "code",
   "execution_count": null,
   "metadata": {},
   "outputs": [],
   "source": []
  }
 ],
 "metadata": {
  "kernelspec": {
   "display_name": "Python 3",
   "language": "python",
   "name": "python3"
  },
  "language_info": {
   "codemirror_mode": {
    "name": "ipython",
    "version": 3
   },
   "file_extension": ".py",
   "mimetype": "text/x-python",
   "name": "python",
   "nbconvert_exporter": "python",
   "pygments_lexer": "ipython3",
   "version": "3.6.4"
  }
 },
 "nbformat": 4,
 "nbformat_minor": 2
}
