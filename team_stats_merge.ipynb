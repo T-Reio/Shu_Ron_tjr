{
 "cells": [
  {
   "cell_type": "code",
   "execution_count": 93,
   "metadata": {},
   "outputs": [],
   "source": [
    "import numpy as np\n",
    "import pandas as pd"
   ]
  },
  {
   "cell_type": "code",
   "execution_count": 94,
   "metadata": {},
   "outputs": [],
   "source": [
    "season = list(range(2000, 2018))"
   ]
  },
  {
   "cell_type": "code",
   "execution_count": 95,
   "metadata": {
    "scrolled": true
   },
   "outputs": [
    {
     "name": "stdout",
     "output_type": "stream",
     "text": [
      "    Tm  #P  PAge  RA/G   W   L   W-L%   ERA    G   GS  ...     BF  ERA+   FIP  \\\n",
      "0  ARI  26  28.2  4.52  90  72  0.556  4.13  162  162  ...   6216   115  4.52   \n",
      "1  ATL  28  29.4  4.52  84  78  0.519  4.11  162  162  ...   6263   107  4.45   \n",
      "2  BAL  27  29.0  5.36  69  93  0.426  5.17  162  162  ...   6418    89  4.79   \n",
      "3  BOS  20  31.1  4.06  96  66  0.593  3.87  162  162  ...   6071   123  4.14   \n",
      "4  CHC  22  28.4  4.26  85  77  0.525  4.04  162  162  ...   6186   115  4.36   \n",
      "\n",
      "    WHIP   H9  HR9  BB9  SO9  SO/W   LOB  \n",
      "0  1.382  9.0  1.1  3.4  6.8  1.99  1161  \n",
      "1  1.359  8.9  1.1  3.3  6.8  2.06  1161  \n",
      "2  1.520  9.3  1.0  4.4  6.8  1.56  1234  \n",
      "3  1.273  8.4  0.9  3.0  7.2  2.38  1098  \n",
      "4  1.322  8.3  1.0  3.6  7.5  2.11  1156  \n",
      "\n",
      "[5 rows x 36 columns]\n",
      "    Tm  #Bat  BatAge   R/G    G    PA    AB    R     H   2B  ...     SLG  \\\n",
      "0  ANA    45    27.6  5.33  162  6373  5628  864  1574  309  ...   0.472   \n",
      "1  ARI    41    30.8  4.89  162  6241  5527  792  1466  282  ...   0.429   \n",
      "2  ATL    47    30.8  5.00  162  6275  5489  810  1490  274  ...   0.429   \n",
      "3  BAL    50    32.1  4.90  162  6238  5549  794  1508  310  ...   0.435   \n",
      "4  BOS    52    29.3  4.89  162  6371  5630  792  1503  316  ...   0.423   \n",
      "\n",
      "     OPS  OPS+    TB  GDP  HBP  SH  SF  IBB   LOB  \n",
      "0  0.825   105  2659  126   47  47  43   43  1173  \n",
      "1  0.763    88  2373  114   59  61  58   37  1128  \n",
      "2  0.775    95  2353  127   59  87  45   38  1192  \n",
      "3  0.776   100  2414  148   49  27  54   34  1129  \n",
      "4  0.764    90  2384  115   42  40  48   40  1226  \n",
      "\n",
      "[5 rows x 29 columns]\n",
      "   Rk   Tm  Lg    G    W   L   W-L%    R   RA  Rdiff  ...    Luck  Inter  \\\n",
      "0   1  CHC  NL  162  103  58  0.640  5.0  3.4    1.6  ...      -4  43235   \n",
      "1   2  TEX  AL  162   95  67  0.586  4.7  4.7    0.0  ...      13  43294   \n",
      "2   3  WSN  NL  162   95  67  0.586  4.7  3.8    0.9  ...      -2  43442   \n",
      "3   4  CLE  AL  161   94  67  0.584  4.8  4.2    0.6  ...       3  43294   \n",
      "4   5  BOS  AL  162   93  69  0.574  5.4  4.3    1.1  ...      -5  43265   \n",
      "\n",
      "    Home   Road  ExInn                 1Run   vRHP   vLHP  ≥.500  <.500  \n",
      "0  57-24  46-34  43347                22-23  75-41  28-17  31-25  72-33  \n",
      "1  53-28  42-39  43257  1936-11-01 00:00:00  73-48  22-19  60-31  35-36  \n",
      "2  50-31  45-36  43228                26-19  75-53  20-14  31-29  64-38  \n",
      "3  53-28  41-39  43257                28-21  63-47  31-20  48-43  46-24  \n",
      "4  47-34  46-35  43285                20-24  73-52  20-17  55-48  38-21  \n",
      "\n",
      "[5 rows x 23 columns]\n"
     ]
    }
   ],
   "source": [
    "pitch = {}\n",
    "bat = {}\n",
    "stand = {}\n",
    "\n",
    "for x in season:\n",
    "    pitch[x] = pd.read_excel('master_thesis/input/MLB_stats_{}.xlsx'.format(x), sheet_name = 'team_pitching')\n",
    "    bat[x] = pd.read_excel('master_thesis/input/MLB_stats_{}.xlsx'.format(x), sheet_name = 'team_batting')\n",
    "    stand[x] = pd.read_excel('master_thesis/input/MLB_stats_{}.xlsx'.format(x), sheet_name = 'team_standings')\n",
    "    \n",
    "print(pitch[2007].head(5))\n",
    "print(bat[2000].head(5))\n",
    "print(stand[2016].head(5))"
   ]
  },
  {
   "cell_type": "code",
   "execution_count": 96,
   "metadata": {},
   "outputs": [],
   "source": [
    "for x in season:\n",
    "    pitch[x].set_index('Tm')\n",
    "    bat[x].set_index('Tm')\n",
    "    stand[x].set_index('Tm')"
   ]
  },
  {
   "cell_type": "code",
   "execution_count": 97,
   "metadata": {},
   "outputs": [],
   "source": [
    "sfil = ['Tm', 'Lg', 'G', 'W', 'L', 'W-L%', 'R', 'RA', 'SRS', 'pythWL', 'Luck']\n",
    "pfil = ['Tm', '#P', 'PAge', 'RA/G', 'ERA','H','ER', 'HR', 'BB', 'IBB', 'SO', 'HBP', 'BK', 'WP', 'ERA+', 'FIP', 'WHIP',\n",
    "        'H9', 'HR9', 'BB9', 'SO9', 'SO/W', 'LOB']\n",
    "bfil = ['Tm', '#Bat', 'BatAge', 'R/G', 'PA', 'AB', 'H', '2B', '3B', 'HR', 'RBI', 'SB', 'CS', 'BB', 'SO', 'BA', \n",
    "        'OBP', 'SLG', 'OPS', 'OPS+', 'TB', 'HBP', 'SH', 'SF', 'IBB', 'LOB']"
   ]
  },
  {
   "cell_type": "code",
   "execution_count": 98,
   "metadata": {},
   "outputs": [],
   "source": [
    "for x in season:\n",
    "    stand[x] = stand[x].filter(sfil)\n",
    "    pitch[x] = pitch[x].filter(pfil)\n",
    "    bat[x] = bat[x].filter(bfil)"
   ]
  },
  {
   "cell_type": "code",
   "execution_count": 99,
   "metadata": {},
   "outputs": [],
   "source": [
    "team_stats = {}\n",
    "\n",
    "for x in season:\n",
    "    team_stats[x] = pd.merge(pitch[x], bat[x], on = 'Tm')\n",
    "    team_stats[x] = pd.merge(stand[x], team_stats[x], on = 'Tm')\n",
    "    team_stats[x]['Season'] = x"
   ]
  },
  {
   "cell_type": "code",
   "execution_count": 100,
   "metadata": {},
   "outputs": [
    {
     "name": "stdout",
     "output_type": "stream",
     "text": [
      "    Tm  Lg    G   W   L   W-L%    R   RA  SRS pythWL   ...      SLG    OPS  \\\n",
      "0  SFG  NL  162  97  65  0.599  5.7  4.6  1.0  97-65   ...    0.472  0.834   \n",
      "\n",
      "   OPS+    TB  HBP_y  SH  SF  IBB_y  LOB_y  Season  \n",
      "0   115  2605     51  73  66     60   1213    2000  \n",
      "\n",
      "[1 rows x 59 columns]\n",
      "    Tm  Lg    G    W   L   W-L%    R   RA  SRS  pythWL   ...      SLG    OPS  \\\n",
      "0  SEA  AL  162  116  46  0.716  5.7  3.9  1.9  109-53   ...    0.445  0.805   \n",
      "\n",
      "   OPS+    TB  HBP_y  SH  SF  IBB_y  LOB_y  Season  \n",
      "0   117  2530     62  48  70     54   1257    2001  \n",
      "\n",
      "[1 rows x 59 columns]\n",
      "    Tm  Lg    G    W   L  W-L%    R   RA  SRS pythWL   ...      SLG    OPS  \\\n",
      "0  NYY  AL  161  103  58  0.64  5.6  4.3  1.2  99-62   ...    0.455  0.809   \n",
      "\n",
      "   OPS+    TB  HBP_y  SH  SF  IBB_y  LOB_y  Season  \n",
      "0   114  2547     72  23  41     48   1191    2002  \n",
      "\n",
      "[1 rows x 59 columns]\n",
      "    Tm  Lg    G    W   L   W-L%    R   RA  SRS pythWL   ...      SLG    OPS  \\\n",
      "0  ATL  NL  162  101  61  0.624  5.6  4.6  1.1  96-66   ...    0.475  0.824   \n",
      "\n",
      "   OPS+    TB  HBP_y  SH  SF  IBB_y  LOB_y  Season  \n",
      "0   112  2696     49  65  49     46   1170    2003  \n",
      "\n",
      "[1 rows x 59 columns]\n",
      "    Tm  Lg    G    W   L   W-L%    R   RA  SRS  pythWL   ...     SLG    OPS  \\\n",
      "0  STL  NL  162  105  57  0.648  5.3  4.1  1.1  100-62   ...    0.46  0.804   \n",
      "\n",
      "   OPS+    TB  HBP_y  SH  SF  IBB_y  LOB_y  Season  \n",
      "0   107  2553     51  73  70     64   1156    2004  \n",
      "\n",
      "[1 rows x 59 columns]\n",
      "    Tm  Lg    G    W   L   W-L%    R   RA  SRS pythWL   ...      SLG    OPS  \\\n",
      "0  STL  NL  162  100  62  0.617  5.0  3.9  0.7  98-64   ...    0.423  0.762   \n",
      "\n",
      "   OPS+    TB  HBP_y  SH  SF  IBB_y  LOB_y  Season  \n",
      "0    98  2343     62  77  35     60   1152    2005  \n",
      "\n",
      "[1 rows x 59 columns]\n",
      "    Tm  Lg    G   W   L   W-L%    R   RA  SRS pythWL   ...      SLG    OPS  \\\n",
      "0  NYY  AL  162  97  65  0.599  5.7  4.7  1.2  95-67   ...    0.461  0.824   \n",
      "\n",
      "   OPS+    TB  HBP_y  SH  SF  IBB_y  LOB_y  Season  \n",
      "0   111  2607     72  34  49     43   1253    2006  \n",
      "\n",
      "[1 rows x 59 columns]\n",
      "    Tm  Lg    G   W   L   W-L%    R   RA  SRS pythWL   ...      SLG    OPS  \\\n",
      "0  CLE  AL  162  96  66  0.593  5.0  4.3  0.8  91-71   ...    0.428  0.771   \n",
      "\n",
      "   OPS+    TB  HBP_y  SH  SF  IBB_y  LOB_y  Season  \n",
      "0   102  2397     80  32  59     56   1215    2007  \n",
      "\n",
      "[1 rows x 59 columns]\n",
      "    Tm  Lg    G    W   L   W-L%    R   RA  SRS pythWL   ...      SLG    OPS  \\\n",
      "0  LAA  AL  162  100  62  0.617  4.7  4.3  0.7  88-74   ...    0.413  0.743   \n",
      "\n",
      "   OPS+    TB  HBP_y  SH  SF  IBB_y  LOB_y  Season  \n",
      "0    95  2287     52  32  50     52   1087    2008  \n",
      "\n",
      "[1 rows x 59 columns]\n",
      "    Tm  Lg    G    W   L   W-L%    R   RA  SRS pythWL   ...      SLG    OPS  \\\n",
      "0  NYY  AL  162  103  59  0.636  5.6  4.6  1.3  95-67   ...    0.478  0.839   \n",
      "\n",
      "   OPS+    TB  HBP_y  SH  SF  IBB_y  LOB_y  Season  \n",
      "0   114  2703     54  31  39     35   1238    2009  \n",
      "\n",
      "[1 rows x 59 columns]\n",
      "    Tm  Lg    G   W   L   W-L%    R   RA  SRS pythWL   ...      SLG    OPS  \\\n",
      "0  PHI  NL  162  97  65  0.599  4.8  4.0  0.8  95-67   ...    0.413  0.745   \n",
      "\n",
      "   OPS+    TB  HBP_y  SH  SF  IBB_y  LOB_y  Season  \n",
      "0    98  2307     63  44  43     69   1194    2010  \n",
      "\n",
      "[1 rows x 59 columns]\n",
      "    Tm  Lg    G    W   L  W-L%    R   RA  SRS  pythWL   ...      SLG    OPS  \\\n",
      "0  PHI  NL  162  102  60  0.63  4.4  3.3  1.0  103-59   ...    0.395  0.717   \n",
      "\n",
      "   OPS+    TB  HBP_y  SH  SF  IBB_y  LOB_y  Season  \n",
      "0    96  2202     56  65  38     52   1197    2011  \n",
      "\n",
      "[1 rows x 59 columns]\n",
      "    Tm  Lg    G   W   L   W-L%    R   RA  SRS pythWL   ...      SLG   OPS  \\\n",
      "0  WSN  NL  162  98  64  0.605  4.5  3.7  0.7  96-66   ...    0.428  0.75   \n",
      "\n",
      "   OPS+    TB  HBP_y  SH  SF  IBB_y  LOB_y  Season  \n",
      "0   101  2401     41  50  36     43   1127    2012  \n",
      "\n",
      "[1 rows x 59 columns]\n",
      "    Tm  Lg    G   W   L   W-L%    R   RA  SRS  pythWL   ...      SLG    OPS  \\\n",
      "0  STL  NL  162  97  65  0.599  4.8  3.7  1.0  101-61   ...    0.401  0.733   \n",
      "\n",
      "   OPS+    TB  HBP_y  SH  SF  IBB_y  LOB_y  Season  \n",
      "0   102  2231     64  56  44     38   1087    2013  \n",
      "\n",
      "[1 rows x 59 columns]\n",
      "    Tm  Lg    G   W   L   W-L%    R   RA  SRS pythWL   ...      SLG    OPS  \\\n",
      "0  LAA  AL  162  98  64  0.605  4.8  3.9  1.0  96-66   ...    0.406  0.728   \n",
      "\n",
      "   OPS+    TB  HBP_y  SH  SF  IBB_y  LOB_y  Season  \n",
      "0   110  2295     60  26  54     42   1113    2014  \n",
      "\n",
      "[1 rows x 59 columns]\n",
      "    Tm  Lg    G    W   L   W-L%    R   RA  SRS pythWL   ...      SLG    OPS  \\\n",
      "0  STL  NL  162  100  62  0.617  4.0  3.2  0.5  96-66   ...    0.394  0.716   \n",
      "\n",
      "   OPS+    TB  HBP_y  SH  SF  IBB_y  LOB_y  Season  \n",
      "0    95  2163     66  39  42     47   1152    2015  \n",
      "\n",
      "[1 rows x 59 columns]\n",
      "    Tm  Lg    G    W   L  W-L%    R   RA  SRS  pythWL   ...      SLG    OPS  \\\n",
      "0  CHC  NL  162  103  58  0.64  5.0  3.4  1.3  107-54   ...    0.429  0.772   \n",
      "\n",
      "   OPS+    TB  HBP_y  SH  SF  IBB_y  LOB_y  Season  \n",
      "0   104  2359     96  42  37     45   1217    2016  \n",
      "\n",
      "[1 rows x 59 columns]\n",
      "    Tm  Lg    G    W   L   W-L%    R   RA  SRS  pythWL   ...      SLG    OPS  \\\n",
      "0  LAD  NL  162  104  58  0.642  4.8  3.6  0.9  102-60   ...    0.437  0.771   \n",
      "\n",
      "   OPS+    TB  HBP_y  SH  SF  IBB_y  LOB_y  Season  \n",
      "0   103  2362     64  31  38     41   1146    2017  \n",
      "\n",
      "[1 rows x 59 columns]\n"
     ]
    }
   ],
   "source": [
    "for x in season:\n",
    "    print(team_stats[x].head(1))"
   ]
  },
  {
   "cell_type": "code",
   "execution_count": 101,
   "metadata": {},
   "outputs": [],
   "source": [
    "team_season_stats = pd.concat([team_stats[x] for x in season])\n",
    "\n",
    "team_season_stats = team_season_stats[[\n",
    "    'Season', 'Tm', 'Lg', 'G', 'W', 'L', 'W-L%', 'R', 'RA', 'SRS', 'pythWL', 'Luck',\n",
    "    '#P', 'PAge', 'RA/G', 'ERA','H_x','ER', 'HR_x', 'BB_x', 'IBB_x', 'SO_x', 'HBP_x', 'BK', 'WP', 'ERA+', 'FIP', 'WHIP',\n",
    "    'H9', 'HR9', 'BB9', 'SO9', 'SO/W', 'LOB_x',\n",
    "    '#Bat', 'BatAge', 'R/G', 'PA', 'AB', 'H_y', '2B', '3B', 'HR_y', 'RBI', 'SB', 'CS', 'BB_y', 'SO_y', 'BA', \n",
    "    'OBP', 'SLG', 'OPS', 'OPS+', 'TB', 'HBP_y', 'SH', 'SF', 'IBB_y', 'LOB_y'\n",
    "]]"
   ]
  },
  {
   "cell_type": "code",
   "execution_count": 106,
   "metadata": {},
   "outputs": [],
   "source": [
    "team_season_stats.to_csv(\"master_thesis/output/team_stats_00to17.csv\", index = False, encoding = 'utf-8')"
   ]
  },
  {
   "cell_type": "code",
   "execution_count": 107,
   "metadata": {},
   "outputs": [],
   "source": []
  },
  {
   "cell_type": "code",
   "execution_count": null,
   "metadata": {},
   "outputs": [],
   "source": []
  },
  {
   "cell_type": "code",
   "execution_count": null,
   "metadata": {},
   "outputs": [],
   "source": []
  },
  {
   "cell_type": "code",
   "execution_count": null,
   "metadata": {},
   "outputs": [],
   "source": []
  }
 ],
 "metadata": {
  "kernelspec": {
   "display_name": "Python 3",
   "language": "python",
   "name": "python3"
  },
  "language_info": {
   "codemirror_mode": {
    "name": "ipython",
    "version": 3
   },
   "file_extension": ".py",
   "mimetype": "text/x-python",
   "name": "python",
   "nbconvert_exporter": "python",
   "pygments_lexer": "ipython3",
   "version": "3.6.4"
  }
 },
 "nbformat": 4,
 "nbformat_minor": 2
}
